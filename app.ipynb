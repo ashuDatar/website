{
 "cells": [
  {
   "cell_type": "code",
   "execution_count": null,
   "metadata": {},
   "outputs": [],
   "source": [
    "from flask import Flask\n",
    "from flask_sqlalchemy import SQLAlchemy\n",
    "\n",
    "app = Flask(__name__)\n",
    "app.config.from_object('config')\n",
    "\n",
    "db = SQLAlchemy(app)\n",
    "\n",
    "from models import User\n",
    "\n",
    "@app.route('/add/')\n",
    "def webhook():\n",
    "    name = \"ram\"\n",
    "    email = \"ram@ram.com\"\n",
    "    u = User(id = id, nickname = name, email = email)\n",
    "    print(\"user created\", u)\n",
    "    db.session.add(u)\n",
    "    db.session.commit()\n",
    "    return \"user created\"\n",
    "\n",
    "@app.route('/delete/')\n",
    "def delete():\n",
    "    u = User.query.get(i)\n",
    "    db.session.delete(u)\n",
    "    db.session.commit()\n",
    "    return \"user deleted\"\n",
    "\n",
    "if __name__ == '__main__':\n",
    "    app.run()"
   ]
  }
 ],
 "metadata": {
  "kernelspec": {
   "display_name": "Python 3",
   "language": "python",
   "name": "python3"
  },
  "language_info": {
   "codemirror_mode": {
    "name": "ipython",
    "version": 3
   },
   "file_extension": ".py",
   "mimetype": "text/x-python",
   "name": "python",
   "nbconvert_exporter": "python",
   "pygments_lexer": "ipython3",
   "version": "3.6.4"
  }
 },
 "nbformat": 4,
 "nbformat_minor": 2
}
