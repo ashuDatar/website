{
 "cells": [
  {
   "cell_type": "code",
   "execution_count": null,
   "metadata": {},
   "outputs": [],
   "source": [
    "from flask_script import Manager\n",
    "from flask_migrate import Migrate, MigrateCommand\n",
    "\n",
    "from app import app, db\n",
    "\n",
    "migrate = Migrate(app, db)\n",
    "\n",
    "manager = Manager(app)\n",
    "manager.add_command('db', MigrateCommand)\n",
    "\n",
    "\n",
    "if __name__ == '__main__':\n",
    "    manager.run()"
   ]
  }
 ],
 "metadata": {
  "kernelspec": {
   "display_name": "Python 3",
   "language": "python",
   "name": "python3"
  },
  "language_info": {
   "codemirror_mode": {
    "name": "ipython",
    "version": 3
   },
   "file_extension": ".py",
   "mimetype": "text/x-python",
   "name": "python",
   "nbconvert_exporter": "python",
   "pygments_lexer": "ipython3",
   "version": "3.6.4"
  }
 },
 "nbformat": 4,
 "nbformat_minor": 2
}
