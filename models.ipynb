{
 "cells": [
  {
   "cell_type": "code",
   "execution_count": null,
   "metadata": {},
   "outputs": [],
   "source": [
    "from manage import db,app\n",
    "\n",
    "class User(db.Model):\n",
    "    __tablename__ = 'users'\n",
    "\n",
    "    id = db.Column(db.Integer, primary_key=True)\n",
    "    nickname = db.Column(db.String(64), index=True, unique=True)\n",
    "    email = db.Column(db.String(120), index=True, unique=True)\n",
    "\n",
    "    def __repr__(self):\n",
    "        return '<User %r>' % (self.nickname)"
   ]
  }
 ],
 "metadata": {
  "kernelspec": {
   "display_name": "Python 3",
   "language": "python",
   "name": "python3"
  },
  "language_info": {
   "codemirror_mode": {
    "name": "ipython",
    "version": 3
   },
   "file_extension": ".py",
   "mimetype": "text/x-python",
   "name": "python",
   "nbconvert_exporter": "python",
   "pygments_lexer": "ipython3",
   "version": "3.6.4"
  }
 },
 "nbformat": 4,
 "nbformat_minor": 2
}
